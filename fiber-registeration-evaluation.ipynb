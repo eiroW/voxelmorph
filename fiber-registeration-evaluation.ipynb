{
 "cells": [
  {
   "cell_type": "code",
   "execution_count": 2,
   "metadata": {},
   "outputs": [],
   "source": [
    "import numpy as np\n",
    "import torch\n",
    "from torch import nn\n",
    "from matplotlib import pyplot as plt\n",
    "import pathlib\n",
    "import os\n",
    "os.environ['VXM_BACKEND'] = 'pytorch'\n",
    "from voxelmorph import networks\n",
    "import nibabel as nib\n",
    "from torch.utils.data import DataLoader,Dataset\n",
    "import torch.nn.functional as nnf\n"
   ]
  },
  {
   "cell_type": "code",
   "execution_count": 3,
   "metadata": {},
   "outputs": [],
   "source": [
    "[*(pathlib.Path('/data01/junyi/results/tracts_related/seg9').iterdir())]\n",
    "backbone_tracts = ['AF', 'ATR', 'CA', 'CC',\n",
    "                   'CG', 'CST', 'FPT', 'ICP', 'IFO', 'ILF', 'MCP', 'MLF', 'OR', 'POPT', 'SCP','WGC']\n"
   ]
  },
  {
   "cell_type": "code",
   "execution_count": 4,
   "metadata": {},
   "outputs": [],
   "source": [
    "from voxelmorph.py import utils"
   ]
  },
  {
   "cell_type": "code",
   "execution_count": 5,
   "metadata": {},
   "outputs": [],
   "source": [
    "mask = [nib.load(path).get_fdata() for path in pathlib.Path('/data01/junyi/results/tracts_related/segsnapshot20_16tracts').glob(f'**/AF*.nii.gz')]\n"
   ]
  },
  {
   "cell_type": "code",
   "execution_count": 6,
   "metadata": {},
   "outputs": [],
   "source": [
    "def quick_polar(A:torch.Tensor):\n",
    "    temp_diag = []\n",
    "    temp_diag.append(torch.stack([A[...,0,0]+A[...,1,1]+A[...,2,2],A[...,0,0]-A[...,1,1]-A[...,2,2],-A[...,0,0]+A[...,1,1]-A[...,2,2],-A[...,0,0]-A[...,1,1]+A[...,2,2]],-1)*0.5)\n",
    "    temp_diag.append(torch.stack([A[...,1,2]-A[...,2,1],A[...,0,1]+A[...,1,0],A[...,1,2]+A[...,2,1]],-1)*0.5)\n",
    "    temp_diag.append(torch.stack([A[...,2,0]-A[...,0,2],A[...,2,0]+A[...,0,2]],-1)*0.5)\n",
    "    temp_diag.append(torch.stack([A[...,0,1]-A[...,1,0]],-1)*0.5)\n",
    "    tempB = 0\n",
    "    for i in range(4):\n",
    "        tempB+=torch.diag_embed(temp_diag[i],-i)\n",
    "        tempB+=torch.diag_embed(temp_diag[i],i)\n",
    "    del temp_diag\n",
    "    lamb = compute_lambda1(tempB.det(),A.det())\n",
    "    tempBs = lamb.unsqueeze(-1).unsqueeze(-1)*torch.eye(4).reshape(*[1 for _ in range(lamb.ndim)],4,4).repeat(*(lamb.shape),1,1)-tempB\n",
    "    return tempBs.shape\n",
    "def compute_lambda1(b=0,d=0, eps=1e-4):\n",
    "    mask = b+1/3 > eps\n",
    "    lambda1 = torch.ones_like(b)\n",
    "    # analytic\n",
    "    c=8*d\n",
    "    delta0 = 1+3*b[mask]\n",
    "    delta1 = -1 +(27/16)*c[mask]**2 + 9*b[mask]\n",
    "    alpha = delta1/(delta0)**1.5\n",
    "    z = 4/3*(1+ delta0**0.5*torch.cos(torch.arccos(alpha)/3))\n",
    "    s = 0.5*z**0.5\n",
    "    lambda1[mask] = s + 0.5*torch.relu(4-z+c[mask]/s)**0.5\n",
    "    lambda1[~mask] = newton_method(b[~mask],c[~mask])\n",
    "    return lambda1.reshape(mask.shape)\n",
    "def newton_method(b,c):\n",
    "    x = 3**0.5*torch.ones_like(b)\n",
    "    x_old = 3*torch.ones_like(b)\n",
    "    px = torch.zeros_like(b)\n",
    "    dpx = torch.zeros_like(b)\n",
    "    mask = x_old-x > 1e-12\n",
    "    while mask.all():\n",
    "        x_old[mask] = x[mask]\n",
    "        px[mask] = x[mask]*(x[mask]*(x[mask]**2 - 2)-c)+b[mask]\n",
    "        dpx[mask] = 1/(x[mask]*(4*x[mask]**2-4)-c[mask])\n",
    "        x[mask] = x[mask]-px[mask]*dpx[mask]\n",
    "        mask = x_old-x > 1e-12\n",
    "    return x\n",
    "    # torch.diag_embed()"
   ]
  },
  {
   "cell_type": "code",
   "execution_count": 120,
   "metadata": {},
   "outputs": [],
   "source": [
    "def fast_polar(A:torch.Tensor):\n",
    "    temp = A\n",
    "    device = A.device\n",
    "    temp_norm = torch.ones((*(A.shape[:-2]),1,1),device=device)\n",
    "    mask = torch.ones(A.shape[:-2],dtype=bool,device=device)\n",
    "    old_norm = torch.ones((*(A.shape[:-2]),1,1),device=device)\n",
    "    tempinv = torch.ones((*(A.shape[:-2]),3,3),device=device)\n",
    "    tempinv_norminv = torch.ones(A.shape,device=device)\n",
    "    # gamma = torch.ones(A.shape,device=device)\n",
    "    for _ in range(100):\n",
    "        old_norm[mask] = temp_norm[mask]\n",
    "        temp_norm[mask] = torch.linalg.matrix_norm(temp[mask],dim=(-2,-1),keepdim=True)\n",
    "        tempinv[mask] = torch.inverse(temp[mask])\n",
    "        tempinv_norminv[mask] = torch.linalg.matrix_norm(tempinv[mask],dim=(-2,-1),keepdim=True)\n",
    "        # gamma[mask] = torch.sqrt(temp_norm[mask] * 1/tempinv_norminv[mask])\n",
    "        # temp[mask] = 0.5*(gamma[mask]*temp[mask] + 1/gamma[mask]*tempinv[mask].mT)\n",
    "        temp[mask] = 0.5*(temp[mask] + tempinv[mask].mT)\n",
    "        mask = (torch.abs(temp_norm-old_norm)>1e-5).squeeze()\n",
    "        if (~mask).all():\n",
    "            break\n",
    "    return temp\n",
    "def svd_polar(A:torch.Tensor):\n",
    "    U,_,V=torch.svd(A)\n",
    "    return torch.matmul(U,V.mT)"
   ]
  },
  {
   "cell_type": "code",
   "execution_count": 122,
   "metadata": {},
   "outputs": [],
   "source": [
    "A = torch.rand(196*196*196,3,3,device='cuda:2')\n",
    "M = fast_polar(A)"
   ]
  },
  {
   "cell_type": "code",
   "execution_count": 130,
   "metadata": {},
   "outputs": [],
   "source": [
    "N = svd_polar(A)"
   ]
  },
  {
   "cell_type": "code",
   "execution_count": 138,
   "metadata": {},
   "outputs": [
    {
     "data": {
      "text/plain": [
       "tensor([[[ 1.0000e+00,  3.7253e-09,  0.0000e+00],\n",
       "         [ 3.7253e-09,  1.0000e+00,  0.0000e+00],\n",
       "         [ 0.0000e+00,  0.0000e+00,  1.0000e+00]],\n",
       "\n",
       "        [[ 1.0000e+00,  0.0000e+00,  5.9605e-08],\n",
       "         [ 0.0000e+00,  1.0000e+00,  0.0000e+00],\n",
       "         [ 5.9605e-08,  0.0000e+00,  1.0000e+00]],\n",
       "\n",
       "        [[ 1.0000e+00, -2.9802e-08,  0.0000e+00],\n",
       "         [-2.9802e-08,  1.0000e+00,  0.0000e+00],\n",
       "         [ 0.0000e+00,  0.0000e+00,  1.0000e+00]],\n",
       "\n",
       "        ...,\n",
       "\n",
       "        [[ 1.0000e+00, -1.4901e-08,  2.9802e-08],\n",
       "         [-1.4901e-08,  1.0000e+00,  2.9802e-08],\n",
       "         [ 2.9802e-08,  2.9802e-08,  1.0000e+00]],\n",
       "\n",
       "        [[ 1.0000e+00,  0.0000e+00,  4.4703e-08],\n",
       "         [ 0.0000e+00,  1.0000e+00, -2.9802e-08],\n",
       "         [ 4.4703e-08, -2.9802e-08,  1.0000e+00]],\n",
       "\n",
       "        [[ 1.0000e+00,  5.9605e-08,  5.5879e-09],\n",
       "         [ 5.9605e-08,  1.0000e+00,  3.7253e-09],\n",
       "         [ 5.5879e-09,  3.7253e-09,  1.0000e+00]]], device='cuda:2')"
      ]
     },
     "execution_count": 138,
     "metadata": {},
     "output_type": "execute_result"
    }
   ],
   "source": [
    "M@M.mT"
   ]
  },
  {
   "cell_type": "code",
   "execution_count": 131,
   "metadata": {},
   "outputs": [
    {
     "data": {
      "text/plain": [
       "tensor(0.0972, device='cuda:2')"
      ]
     },
     "execution_count": 131,
     "metadata": {},
     "output_type": "execute_result"
    }
   ],
   "source": [
    "torch.sum(torch.abs(M-N)<1e-5)/np.prod(M.shape)"
   ]
  },
  {
   "cell_type": "code",
   "execution_count": 137,
   "metadata": {},
   "outputs": [
    {
     "data": {
      "text/plain": [
       "tensor(1.0000, device='cuda:2')"
      ]
     },
     "execution_count": 137,
     "metadata": {},
     "output_type": "execute_result"
    }
   ],
   "source": [
    "torch.sum(torch.abs(M-N)<1e-3)/(196*196*196*3*3)"
   ]
  },
  {
   "cell_type": "code",
   "execution_count": 13,
   "metadata": {},
   "outputs": [],
   "source": [
    "\n",
    "for tract in backbone_tracts:\n",
    "    dice_lst = []\n",
    "    mask = [nib.load(path).get_fdata() for path in pathlib.Path('/data01/junyi/results/tracts_related/segsnapshot20_16tracts_0.5_whole').glob(f'**/{tract}*.nii.gz')]\n",
    "    for i in range(10):\n",
    "        for j in range(10):\n",
    "            dice = utils.dice(mask[i],mask[j])[0] if i>j else 0\n",
    "            dice_lst.append(dice)\n",
    "    dice_dict1[tract] = np.stack(dice_lst).reshape(10,-1)"
   ]
  },
  {
   "cell_type": "code",
   "execution_count": 14,
   "metadata": {},
   "outputs": [],
   "source": [
    "np.savez('dice_model16_new.npz',**dice_dict1)"
   ]
  },
  {
   "cell_type": "code",
   "execution_count": 9,
   "metadata": {},
   "outputs": [],
   "source": [
    "from scipy.stats import kstest\n",
    "from scipy.stats import f_oneway\n",
    "\n",
    "def ks_test(dist1,dist2):\n",
    "    st,p= kstest(dist1,dist2,N=20,)\n",
    "    return p\n",
    "    if p>0.05:\n",
    "        return 'ns'\n",
    "    else:\n",
    "        if p>0.01:\n",
    "            return '*' \n",
    "        else:\n",
    "            return '**'\n",
    "dice = {}\n",
    "results = {}\n",
    "\n",
    "dice['Ants']= [np.sum(value)/45 for i,value in np.load('dice_ants.npz',allow_pickle=True).items() if not i =='FX']\n",
    "\n",
    "dice['without_TOMs']=[np.sum(value)/45 for i,value in np.load('dice_modelFA_new1.npz',allow_pickle=True).items()if not i =='FX']\n",
    "\n",
    "dice['Proposed']= [np.sum(value)/45 for i,value in np.load('dice_model16_new.npz',allow_pickle=True).items()if not i =='FX']\n",
    "results['Propsed vs without TOM'] = []\n",
    "results['Propsed vs Ants'] = []\n",
    "for i,tract in enumerate(backbone_tracts):\n",
    "    data = np.load('dice_modelFA_new1.npz',allow_pickle=True)[tract]\n",
    "    pair_dist1=data[np.tril_indices(10,k=-1)]\n",
    "    data = np.load('dice_ants.npz',allow_pickle=True)[tract]\n",
    "    pair_dist2=data[np.tril_indices(10,k=-1)]\n",
    "    data = np.load('dice_model16_new.npz',allow_pickle=True)[tract]\n",
    "    pair_dist3=data[np.tril_indices(10,k=-1)]\n",
    "    results['Propsed vs without TOM'] += [ks_test(pair_dist3,pair_dist1)]\n",
    "    results['Propsed vs Ants'] += [ks_test(pair_dist3,pair_dist2)]\n",
    "    "
   ]
  },
  {
   "cell_type": "code",
   "execution_count": 75,
   "metadata": {},
   "outputs": [],
   "source": []
  },
  {
   "cell_type": "code",
   "execution_count": 116,
   "metadata": {},
   "outputs": [
    {
     "data": {
      "text/plain": [
       "[]"
      ]
     },
     "execution_count": 116,
     "metadata": {},
     "output_type": "execute_result"
    }
   ],
   "source": [
    "a ={}\n",
    "try:\n",
    "    a['a'] \n",
    "except:\n",
    "    a['a'] =[]\n",
    "a['a']\n",
    "    "
   ]
  },
  {
   "cell_type": "code",
   "execution_count": 7,
   "metadata": {},
   "outputs": [],
   "source": [
    "import pandas as pd\n",
    "import seaborn as sns\n",
    "dice = {}\n",
    "\n",
    "dice['Ants']= [value[np.tril_indices(10,k=-1)] for i,value in np.load('dice_ants.npz',allow_pickle=True).items() if not i in ['FX',]]\n",
    "\n",
    "dice['without_TOMs']=[value[np.tril_indices(10,k=-1)] for i,value in np.load('dice_modelFA_new1.npz',allow_pickle=True).items()if not i in ['FX',]]\n",
    "\n",
    "dice['Proposed']= [value[np.tril_indices(10,k=-1)] for i,value in np.load('dice_model16_new.npz',allow_pickle=True).items()if not i in ['FX',]]\n",
    "\n",
    "\n",
    "\n",
    "# print()\n",
    "# dataframe = pd.DataFrame.from_dict(dice)\n",
    "# dataframe"
   ]
  },
  {
   "cell_type": "code",
   "execution_count": 8,
   "metadata": {},
   "outputs": [
    {
     "name": "stdout",
     "output_type": "stream",
     "text": [
      "                Anova\n",
      "======================================\n",
      "        F Value  Num DF  Den DF Pr > F\n",
      "--------------------------------------\n",
      "Methods 202.7040 2.0000 88.0000 0.0000\n",
      "======================================\n",
      "\n",
      "   Multiple Comparison of Means - Tukey HSD, FWER=0.05   \n",
      "=========================================================\n",
      " group1     group2    meandiff p-adj lower  upper  reject\n",
      "---------------------------------------------------------\n",
      "    Ants     Proposed   0.0384   0.0 0.0307 0.0461   True\n",
      "    Ants without TOMs   0.0657   0.0  0.058 0.0735   True\n",
      "Proposed without TOMs   0.0273   0.0 0.0196 0.0351   True\n",
      "---------------------------------------------------------\n",
      "                Anova\n",
      "=====================================\n",
      "        F Value Num DF  Den DF Pr > F\n",
      "-------------------------------------\n",
      "Methods 87.4405 2.0000 88.0000 0.0000\n",
      "=====================================\n",
      "\n",
      "    Multiple Comparison of Means - Tukey HSD, FWER=0.05    \n",
      "===========================================================\n",
      " group1     group2    meandiff p-adj   lower  upper  reject\n",
      "-----------------------------------------------------------\n",
      "    Ants     Proposed   0.0449    0.0  0.0346 0.0552   True\n",
      "    Ants without TOMs   0.0514    0.0  0.0411 0.0617   True\n",
      "Proposed without TOMs   0.0065 0.2963 -0.0038 0.0168  False\n",
      "-----------------------------------------------------------\n",
      "                Anova\n",
      "=====================================\n",
      "        F Value Num DF  Den DF Pr > F\n",
      "-------------------------------------\n",
      "Methods 39.3065 2.0000 88.0000 0.0000\n",
      "=====================================\n",
      "\n",
      "    Multiple Comparison of Means - Tukey HSD, FWER=0.05    \n",
      "===========================================================\n",
      " group1     group2    meandiff p-adj   lower  upper  reject\n",
      "-----------------------------------------------------------\n",
      "    Ants     Proposed   0.0608    0.0  0.0371 0.0844   True\n",
      "    Ants without TOMs   0.0801    0.0  0.0565 0.1038   True\n",
      "Proposed without TOMs   0.0194 0.1316 -0.0043 0.0431  False\n",
      "-----------------------------------------------------------\n",
      "                Anova\n",
      "======================================\n",
      "        F Value  Num DF  Den DF Pr > F\n",
      "--------------------------------------\n",
      "Methods 735.1452 2.0000 88.0000 0.0000\n",
      "======================================\n",
      "\n",
      "   Multiple Comparison of Means - Tukey HSD, FWER=0.05   \n",
      "=========================================================\n",
      " group1     group2    meandiff p-adj lower  upper  reject\n",
      "---------------------------------------------------------\n",
      "    Ants     Proposed   0.0385   0.0 0.0345 0.0424   True\n",
      "    Ants without TOMs   0.0559   0.0  0.052 0.0599   True\n",
      "Proposed without TOMs   0.0174   0.0 0.0135 0.0214   True\n",
      "---------------------------------------------------------\n",
      "                Anova\n",
      "======================================\n",
      "        F Value  Num DF  Den DF Pr > F\n",
      "--------------------------------------\n",
      "Methods 527.8900 2.0000 88.0000 0.0000\n",
      "======================================\n",
      "\n",
      "   Multiple Comparison of Means - Tukey HSD, FWER=0.05    \n",
      "==========================================================\n",
      " group1     group2    meandiff p-adj  lower  upper  reject\n",
      "----------------------------------------------------------\n",
      "    Ants     Proposed    0.046    0.0 0.0399 0.0521   True\n",
      "    Ants without TOMs   0.0567    0.0 0.0506 0.0627   True\n",
      "Proposed without TOMs   0.0107 0.0002 0.0046 0.0167   True\n",
      "----------------------------------------------------------\n",
      "                Anova\n",
      "=====================================\n",
      "        F Value Num DF  Den DF Pr > F\n",
      "-------------------------------------\n",
      "Methods 86.9144 2.0000 88.0000 0.0000\n",
      "=====================================\n",
      "\n",
      "   Multiple Comparison of Means - Tukey HSD, FWER=0.05   \n",
      "=========================================================\n",
      " group1     group2    meandiff p-adj lower  upper  reject\n",
      "---------------------------------------------------------\n",
      "    Ants     Proposed   0.0156   0.0 0.0093 0.0218   True\n",
      "    Ants without TOMs   0.0307   0.0 0.0244 0.0369   True\n",
      "Proposed without TOMs   0.0151   0.0 0.0089 0.0213   True\n",
      "---------------------------------------------------------\n",
      "                Anova\n",
      "======================================\n",
      "        F Value  Num DF  Den DF Pr > F\n",
      "--------------------------------------\n",
      "Methods 723.5525 2.0000 88.0000 0.0000\n",
      "======================================\n",
      "\n",
      "   Multiple Comparison of Means - Tukey HSD, FWER=0.05   \n",
      "=========================================================\n",
      " group1     group2    meandiff p-adj lower  upper  reject\n",
      "---------------------------------------------------------\n",
      "    Ants     Proposed   0.0344   0.0 0.0306 0.0383   True\n",
      "    Ants without TOMs   0.0469   0.0 0.0431 0.0508   True\n",
      "Proposed without TOMs   0.0125   0.0 0.0086 0.0164   True\n",
      "---------------------------------------------------------\n",
      "                Anova\n",
      "======================================\n",
      "        F Value  Num DF  Den DF Pr > F\n",
      "--------------------------------------\n",
      "Methods 558.9274 2.0000 88.0000 0.0000\n",
      "======================================\n",
      "\n",
      "    Multiple Comparison of Means - Tukey HSD, FWER=0.05    \n",
      "===========================================================\n",
      " group1     group2    meandiff p-adj  lower   upper  reject\n",
      "-----------------------------------------------------------\n",
      "    Ants     Proposed   0.0641   0.0  0.0574  0.0708   True\n",
      "    Ants without TOMs   0.0467   0.0    0.04  0.0533   True\n",
      "Proposed without TOMs  -0.0174   0.0 -0.0241 -0.0108   True\n",
      "-----------------------------------------------------------\n",
      "                Anova\n",
      "=====================================\n",
      "        F Value Num DF  Den DF Pr > F\n",
      "-------------------------------------\n",
      "Methods 30.3213 2.0000 88.0000 0.0000\n",
      "=====================================\n",
      "\n",
      "    Multiple Comparison of Means - Tukey HSD, FWER=0.05    \n",
      "===========================================================\n",
      " group1     group2    meandiff p-adj   lower  upper  reject\n",
      "-----------------------------------------------------------\n",
      "    Ants     Proposed   0.0054 0.3277 -0.0035 0.0142  False\n",
      "    Ants without TOMs   0.0205    0.0  0.0116 0.0293   True\n",
      "Proposed without TOMs   0.0151 0.0003  0.0062  0.024   True\n",
      "-----------------------------------------------------------\n",
      "                Anova\n",
      "======================================\n",
      "        F Value  Num DF  Den DF Pr > F\n",
      "--------------------------------------\n",
      "Methods 239.2910 2.0000 88.0000 0.0000\n",
      "======================================\n",
      "\n",
      "   Multiple Comparison of Means - Tukey HSD, FWER=0.05   \n",
      "=========================================================\n",
      " group1     group2    meandiff p-adj lower  upper  reject\n",
      "---------------------------------------------------------\n",
      "    Ants     Proposed   0.0252   0.0 0.0179 0.0325   True\n",
      "    Ants without TOMs   0.0572   0.0 0.0499 0.0645   True\n",
      "Proposed without TOMs    0.032   0.0 0.0247 0.0393   True\n",
      "---------------------------------------------------------\n",
      "                Anova\n",
      "======================================\n",
      "        F Value  Num DF  Den DF Pr > F\n",
      "--------------------------------------\n",
      "Methods 525.9970 2.0000 88.0000 0.0000\n",
      "======================================\n",
      "\n",
      "    Multiple Comparison of Means - Tukey HSD, FWER=0.05     \n",
      "============================================================\n",
      " group1     group2    meandiff p-adj   lower   upper  reject\n",
      "------------------------------------------------------------\n",
      "    Ants     Proposed    0.047    0.0  0.0418  0.0523   True\n",
      "    Ants without TOMs   0.0384    0.0  0.0332  0.0436   True\n",
      "Proposed without TOMs  -0.0087 0.0004 -0.0139 -0.0034   True\n",
      "------------------------------------------------------------\n",
      "                Anova\n",
      "======================================\n",
      "        F Value  Num DF  Den DF Pr > F\n",
      "--------------------------------------\n",
      "Methods 328.2543 2.0000 88.0000 0.0000\n",
      "======================================\n",
      "\n",
      "   Multiple Comparison of Means - Tukey HSD, FWER=0.05   \n",
      "=========================================================\n",
      " group1     group2    meandiff p-adj lower  upper  reject\n",
      "---------------------------------------------------------\n",
      "    Ants     Proposed   0.0313   0.0 0.0257 0.0368   True\n",
      "    Ants without TOMs   0.0571   0.0 0.0516 0.0626   True\n",
      "Proposed without TOMs   0.0259   0.0 0.0203 0.0314   True\n",
      "---------------------------------------------------------\n",
      "                Anova\n",
      "=====================================\n",
      "        F Value Num DF  Den DF Pr > F\n",
      "-------------------------------------\n",
      "Methods 44.8901 2.0000 88.0000 0.0000\n",
      "=====================================\n",
      "\n",
      "   Multiple Comparison of Means - Tukey HSD, FWER=0.05    \n",
      "==========================================================\n",
      " group1     group2    meandiff p-adj  lower  upper  reject\n",
      "----------------------------------------------------------\n",
      "    Ants     Proposed   0.0193    0.0 0.0096  0.029   True\n",
      "    Ants without TOMs   0.0342    0.0 0.0245 0.0439   True\n",
      "Proposed without TOMs   0.0149 0.0011 0.0052 0.0246   True\n",
      "----------------------------------------------------------\n",
      "                Anova\n",
      "=====================================\n",
      "        F Value Num DF  Den DF Pr > F\n",
      "-------------------------------------\n",
      "Methods 92.5425 2.0000 88.0000 0.0000\n",
      "=====================================\n",
      "\n",
      "   Multiple Comparison of Means - Tukey HSD, FWER=0.05    \n",
      "==========================================================\n",
      " group1     group2    meandiff p-adj  lower  upper  reject\n",
      "----------------------------------------------------------\n",
      "    Ants     Proposed   0.0234    0.0  0.017 0.0299   True\n",
      "    Ants without TOMs   0.0355    0.0 0.0291 0.0419   True\n",
      "Proposed without TOMs   0.0121 0.0001 0.0056 0.0185   True\n",
      "----------------------------------------------------------\n",
      "                Anova\n",
      "======================================\n",
      "        F Value  Num DF  Den DF Pr > F\n",
      "--------------------------------------\n",
      "Methods 403.2432 2.0000 88.0000 0.0000\n",
      "======================================\n",
      "\n",
      "    Multiple Comparison of Means - Tukey HSD, FWER=0.05    \n",
      "===========================================================\n",
      " group1     group2    meandiff p-adj  lower   upper  reject\n",
      "-----------------------------------------------------------\n",
      "    Ants     Proposed   0.0665   0.0  0.0602  0.0728   True\n",
      "    Ants without TOMs   0.0396   0.0  0.0333  0.0459   True\n",
      "Proposed without TOMs  -0.0269   0.0 -0.0332 -0.0206   True\n",
      "-----------------------------------------------------------\n",
      "                Anova\n",
      "=====================================\n",
      "        F Value Num DF  Den DF Pr > F\n",
      "-------------------------------------\n",
      "Methods  7.6418 2.0000 88.0000 0.0009\n",
      "=====================================\n",
      "\n",
      "    Multiple Comparison of Means - Tukey HSD, FWER=0.05    \n",
      "===========================================================\n",
      " group1     group2    meandiff p-adj   lower  upper  reject\n",
      "-----------------------------------------------------------\n",
      "    Ants     Proposed   0.0364 0.0074  0.0082 0.0645   True\n",
      "    Ants without TOMs   0.0403 0.0026  0.0122 0.0685   True\n",
      "Proposed without TOMs   0.0039 0.9417 -0.0242 0.0321  False\n",
      "-----------------------------------------------------------\n"
     ]
    }
   ],
   "source": [
    "from statsmodels.stats.anova import AnovaRM\n",
    "from statsmodels.stats import multicomp\n",
    "pvalues = []\n",
    "iterables = [['Ants','without TOMs', 'Proposed'],backbone_tracts,range(45)]\n",
    "index = pd.MultiIndex.from_product(iterables, names=['Methods','Tracts','SUB_ID'])\n",
    "df = pd.DataFrame(np.stack([v for i, v in dice.items()]).reshape(-1),index=index).reset_index()\n",
    "for tract in backbone_tracts:\n",
    "    # print(df[df['Tracts']==tract].drop(columns='Tracts'))\n",
    "    data = df[df['Tracts']==tract].drop(columns='Tracts')\n",
    "    print(AnovaRM(data=data, depvar=0, \n",
    "              subject='SUB_ID', within=['Methods'], aggregate_func='mean').fit()) \n",
    "    mcresult = multicomp.MultiComparison(data[0],data['Methods'])\n",
    "    result = mcresult.tukeyhsd()\n",
    "    print(result)\n",
    "    pvalues.append(result.pvalues)\n",
    "    # if result.pvalues <0.05:\n",
    "        \n",
    "    # print(['n.s' for p in result.pvalues if p>0.05 ])\n",
    "    # print(result.pvalues<0.05,result.meandiffs)\n",
    "    # pairwise_tukeyhsd(data,groups=['Ants','without TOMs', 'Proposed'])\n",
    "pr =pd.DataFrame(np.stack(pvalues),columns=['Propsed vs Ants','Ants vs without TOM','Propsed vs without TOM'])"
   ]
  },
  {
   "cell_type": "code",
   "execution_count": 10,
   "metadata": {},
   "outputs": [],
   "source": [
    "def mark(pvalue):\n",
    "    if pvalue>0.05:\n",
    "        return 'ns'\n",
    "    else:\n",
    "        if pvalue>0.01:\n",
    "            return '*' \n",
    "        else:\n",
    "            return '**'\n",
    "def bar_chart(group_num,score:dict,barWidth =0.6,anno=None):\n",
    "    fig,ax = plt.subplots(figsize=(6,5))\n",
    "    br1 = np.arange(group_num)*2 \n",
    "    br2 = [x + barWidth+0.2 for x in br1] \n",
    "    br3 = [x + barWidth+0.2 for x in br2]\n",
    "    plt.bar(br1,np.stack(score['Ants'])[-1]-0.5,width = barWidth, bottom=0.5, label= 'SyN')\n",
    "    plt.bar(br2,np.stack(score['without_TOMs'])[-1]-0.5,width = barWidth, bottom=0.5,label= 'VoxelMorph')\n",
    "    plt.bar(br3,np.stack(score['Proposed'])[-1]-0.5,width = barWidth, bottom=0.5,label= 'Proposed method')\n",
    "    y = np.stack([v for k,v in score.items()]).max(0)\n",
    "    if not anno is None:\n",
    "        for  i,tract in enumerate(backbone_tracts[-1:]):\n",
    "            h = 0.005\n",
    "            y = np.stack([v for k,v in score.items()])[(0,2),:].max(0)-0.1\n",
    "            plt.plot([br1[i],br1[i],br3[i],br3[i]],[y[i],y[i]+h,y[i]+h,y[i]], lw=1.5,c='k')\n",
    "            # this_anno = f\"{anno[tract+' Propsed vs Ants' ][-1] :.3f}\" if not anno[tract+' Propsed vs Ants' ] ==None else 'ns'\n",
    "            plt.text((br1[i]+br3[i])/2, y[i]+h, mark(anno['Propsed vs Ants' ][-1]), ha='center', va='bottom', color='k')\n",
    "            # plt.text((br1[i]+br3[i])/2, y[i]+h, this_anno, ha='center', va='bottom', color='k')\n",
    "            y = np.stack([v for k,v in score.items()])[(1,2),:].max(0)-0.1\n",
    "            h = 0.01\n",
    "            plt.plot([br2[i],br2[i],br3[i],br3[i]],[y[i],y[i]+h,y[i]+h,y[-i]], lw=1.5,c='k')\n",
    "            # this_anno = f\"{anno[tract+' Propsed vs without TOM'][-1] :.3f}\" if not anno[tract+' Propsed vs without TOM']==None else 'ns'\n",
    "            plt.text((br2[i]+br3[i])/2, y[i]+h, mark(anno[ 'Propsed vs without TOM'][-1]), ha='center', va='bottom', color='k')\n",
    "            # plt.text((br2[i]+br3[i])/2, y[i]+h, this_anno, ha='center', va='bottom', color='k')\n",
    "    # plt.xlabel('Gray Matter White Matter and CSF', fontweight ='bold', fontsize = 15) \n",
    "    plt.ylabel('Segmentation of GM, WM and CSF', fontweight ='bold', fontsize = 8) \n",
    "    # plt.xticks([r + barWidth +0.2 for r in br1], \n",
    "    #         ['Gray Matter White Matter and CSF'])\n",
    "    plt.xticks([br1[0],br2[0],br3[0]],['SyN','VoxelMorph','Proposed method'])\n",
    "    # plt.legend(loc ='upper right', bbox_to_anchor=(1.0, 0.25))\n",
    "    ax.spines['right'].set_visible(False)\n",
    "    ax.spines['top'].set_visible(False)\n",
    "    plt.savefig('all.png',bbox_inches='tight')\n"
   ]
  },
  {
   "cell_type": "code",
   "execution_count": 109,
   "metadata": {},
   "outputs": [
    {
     "data": {
      "text/plain": [
       "array([], dtype=float64)"
      ]
     },
     "execution_count": 109,
     "metadata": {},
     "output_type": "execute_result"
    }
   ],
   "source": [
    "results['Propsed vs Ants']"
   ]
  },
  {
   "cell_type": "code",
   "execution_count": 11,
   "metadata": {},
   "outputs": [
    {
     "data": {
      "image/png": "[encoded data removed]",
      "text/plain": [
       "<Figure size 600x500 with 1 Axes>"
      ]
     },
     "metadata": {},
     "output_type": "display_data"
    }
   ],
   "source": [
    "# bar_chart(16,dice,)\n",
    "bar_chart(1,dice,anno=results)\n"
   ]
  },
  {
   "cell_type": "code",
   "execution_count": 11,
   "metadata": {},
   "outputs": [],
   "source": [
    "dice_dict1 = np.load('dice_model16.npz',allow_pickle=True)\n",
    "# dice_dict = np.load('dice_model.npz',allow_pickle=True)"
   ]
  },
  {
   "cell_type": "code",
   "execution_count": 14,
   "metadata": {},
   "outputs": [
    {
     "data": {
      "text/plain": [
       "Text(0.5, 0.9, 'Dice difference of  Purposed Method and Ants')"
      ]
     },
     "execution_count": 14,
     "metadata": {},
     "output_type": "execute_result"
    },
    {
     "data": {
      "image/png": "[encoded data removed]",
      "text/plain": [
       "<Figure size 900x900 with 17 Axes>"
      ]
     },
     "metadata": {},
     "output_type": "display_data"
    }
   ],
   "source": [
    "fig, axes = plt.subplots(4,4,figsize=(9,9))\n",
    "# print(np.sum((dice_dict[tract]-dice_dict1[tract])<0))\n",
    "axes = axes.flat\n",
    "\n",
    "for i,tract in enumerate(backbone_tracts):\n",
    "    im = axes[i].imshow((dice_dict1[tract]),vmin=.6,vmax=1,cmap='rainbow')\n",
    "    axes[i].axis('off')\n",
    "    axes[i].set_title(tract,y=-0.2)\n",
    "\n",
    "fig.subplots_adjust(right=0.8)\n",
    "cbar_ax = fig.add_axes([0.81,0.35,0.02,0.5])\n",
    "fig.colorbar(im,cbar_ax)\n",
    "fig.suptitle('Dice difference of  Purposed Method and Ants',y=0.9,fontweight='bold')\n"
   ]
  },
  {
   "cell_type": "code",
   "execution_count": 8,
   "metadata": {},
   "outputs": [
    {
     "data": {
      "text/plain": [
       "tensor([[0.9940, 0.7810, 0.6202, 0.4559, 0.3109, 0.2173, 0.1497, 0.0966, 0.0527,\n",
       "         0.0343],\n",
       "        [0.7810, 0.9943, 0.8077, 0.6186, 0.4333, 0.3070, 0.2163, 0.1426, 0.0786,\n",
       "         0.0500],\n",
       "        [0.6202, 0.8077, 0.9946, 0.7811, 0.5763, 0.4147, 0.2917, 0.2017, 0.1190,\n",
       "         0.0744],\n",
       "        [0.4559, 0.6186, 0.7811, 0.9943, 0.7542, 0.5637, 0.4076, 0.2946, 0.1895,\n",
       "         0.1210],\n",
       "        [0.3109, 0.4333, 0.5763, 0.7542, 0.9938, 0.7573, 0.5777, 0.4407, 0.3070,\n",
       "         0.2010],\n",
       "        [0.2173, 0.3070, 0.4147, 0.5637, 0.7573, 0.9939, 0.7878, 0.6292, 0.4626,\n",
       "         0.3132],\n",
       "        [0.1497, 0.2163, 0.2917, 0.4076, 0.5777, 0.7878, 0.9944, 0.8079, 0.6195,\n",
       "         0.4286],\n",
       "        [0.0966, 0.1426, 0.2017, 0.2946, 0.4407, 0.6292, 0.8079, 0.9947, 0.7841,\n",
       "         0.5765],\n",
       "        [0.0527, 0.0786, 0.1190, 0.1895, 0.3070, 0.4626, 0.6195, 0.7841, 0.9944,\n",
       "         0.7603],\n",
       "        [0.0343, 0.0500, 0.0744, 0.1210, 0.2010, 0.3132, 0.4286, 0.5765, 0.7603,\n",
       "         0.9938]], dtype=torch.float64)"
      ]
     },
     "execution_count": 8,
     "metadata": {},
     "output_type": "execute_result"
    }
   ],
   "source": []
  },
  {
   "cell_type": "code",
   "execution_count": 12,
   "metadata": {},
   "outputs": [],
   "source": [
    "def tract_distance(voxels,num_ind):\n",
    "    tract_warped = voxels.reshape(num_ind,3,-1).permute(-1,0,1)\n",
    "    mask = (torch.abs(tract_warped).max(-1,keepdim=True)[0] > 5e-2).float()\n",
    "    overlap = ((mask @ mask.mT) > 1e-5).float()\n",
    "    weight = overlap/overlap.sum(0,keepdim=True)\n",
    "\n",
    "    top = torch.clip(tract_warped @ tract_warped.mT,min=1e-7)\n",
    "    vec_len = torch.sqrt((tract_warped)**2)\n",
    "\n",
    "    bottom = torch.clip(vec_len @ vec_len.mT,min=1e-7)\n",
    "\n",
    "    return (top/bottom*weight).sum(0)"
   ]
  },
  {
   "cell_type": "code",
   "execution_count": 13,
   "metadata": {},
   "outputs": [],
   "source": [
    "batch_size=10"
   ]
  },
  {
   "cell_type": "code",
   "execution_count": 34,
   "metadata": {},
   "outputs": [],
   "source": [
    "dataset = TOMDatasetDir('../HCP_100')\n",
    "data = DataLoader(dataset,batch_size=batch_size,shuffle=True)\n",
    "eval_data = next(iter(data)).to('cuda:5')\n",
    "\n",
    "with torch.no_grad():\n",
    "    model.to('cuda:5').eval()\n",
    "    outputs = model(eval_data)"
   ]
  },
  {
   "cell_type": "code",
   "execution_count": 33,
   "metadata": {},
   "outputs": [
    {
     "data": {
      "text/plain": [
       "tensor([[1.0000, 0.5979],\n",
       "        [0.5979, 0.9999]], device='cuda:5')"
      ]
     },
     "execution_count": 33,
     "metadata": {},
     "output_type": "execute_result"
    }
   ],
   "source": [
    "tract_shape_dice(torch.stack((outputs[1][5,...],eval_data[5])),2)"
   ]
  },
  {
   "cell_type": "code",
   "execution_count": 35,
   "metadata": {},
   "outputs": [
    {
     "data": {
      "text/plain": [
       "<matplotlib.colorbar.Colorbar at 0x7f4249a12130>"
      ]
     },
     "execution_count": 35,
     "metadata": {},
     "output_type": "execute_result"
    },
    {
     "data": {
      "image/png": "[encoded data removed]",
      "text/plain": [
       "<Figure size 640x480 with 2 Axes>"
      ]
     },
     "metadata": {},
     "output_type": "display_data"
    }
   ],
   "source": [
    "SM = tract_shape_dice(outputs[0],batch_size)\n",
    "# print(SM)\n",
    "SM1 = tract_shape_dice(eval_data,batch_size)\n",
    "# print(SM-SM1)\n",
    "plt.imshow((SM).cpu(),cmap='gray')\n",
    "plt.colorbar()"
   ]
  }
 ],
 "metadata": {
  "kernelspec": {
   "display_name": "mainpyenv",
   "language": "python",
   "name": "python3"
  },
  "language_info": {
   "codemirror_mode": {
    "name": "ipython",
    "version": 3
   },
   "file_extension": ".py",
   "mimetype": "text/x-python",
   "name": "python",
   "nbconvert_exporter": "python",
   "pygments_lexer": "ipython3",
   "version": "3.9.17"
  },
  "orig_nbformat": 4
 },
 "nbformat": 4,
 "nbformat_minor": 2
}
